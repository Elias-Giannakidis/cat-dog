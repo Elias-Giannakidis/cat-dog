{
 "cells": [
  {
   "cell_type": "code",
   "execution_count": 3,
   "metadata": {},
   "outputs": [],
   "source": [
    "import tensorflow as tf  ## import tensorflow\n",
    "from tensorflow.keras.models import Sequential  ## import the neural network model\n",
    "from tensorflow.keras.layers import Dense, Dropout, Activation, Flatten, Conv2D, MaxPooling2D  ## import keras layers"
   ]
  },
  {
   "cell_type": "code",
   "execution_count": 48,
   "metadata": {},
   "outputs": [],
   "source": [
    "import pickle  ## import pickle to load data\n",
    "x = pickle.load(open(\"x.pickle\",\"rb\"))\n",
    "y = pickle.load(open(\"y.pickle\",\"rb\"))"
   ]
  },
  {
   "cell_type": "code",
   "execution_count": 49,
   "metadata": {},
   "outputs": [],
   "source": [
    "import numpy as np    ## normalaze the data\n",
    "\n",
    "x = np.array(x/255.0)\n",
    "y = np.array(y) "
   ]
  },
  {
   "cell_type": "code",
   "execution_count": 50,
   "metadata": {},
   "outputs": [
    {
     "name": "stdout",
     "output_type": "stream",
     "text": [
      "Train on 22451 samples, validate on 2495 samples\n",
      "Epoch 1/10\n",
      "22451/22451 [==============================] - 66s 3ms/sample - loss: 0.6069 - accuracy: 0.6652 - val_loss: 0.4936 - val_accuracy: 0.7715\n",
      "Epoch 2/10\n",
      "22451/22451 [==============================] - 66s 3ms/sample - loss: 0.5119 - accuracy: 0.7522 - val_loss: 0.5729 - val_accuracy: 0.7170\n",
      "Epoch 3/10\n",
      "22451/22451 [==============================] - 66s 3ms/sample - loss: 0.4696 - accuracy: 0.7798 - val_loss: 0.5784 - val_accuracy: 0.6998\n",
      "Epoch 4/10\n",
      "22451/22451 [==============================] - 66s 3ms/sample - loss: 0.4369 - accuracy: 0.7977 - val_loss: 0.6402 - val_accuracy: 0.6713\n",
      "Epoch 5/10\n",
      "22451/22451 [==============================] - 68s 3ms/sample - loss: 0.4137 - accuracy: 0.8108 - val_loss: 0.5316 - val_accuracy: 0.7439\n",
      "Epoch 6/10\n",
      "22451/22451 [==============================] - 66s 3ms/sample - loss: 0.3908 - accuracy: 0.8237 - val_loss: 0.4165 - val_accuracy: 0.8184\n",
      "Epoch 7/10\n",
      "22451/22451 [==============================] - 77s 3ms/sample - loss: 0.3620 - accuracy: 0.8382 - val_loss: 0.6844 - val_accuracy: 0.6954\n",
      "Epoch 8/10\n",
      "22451/22451 [==============================] - 70s 3ms/sample - loss: 0.3413 - accuracy: 0.8498 - val_loss: 0.6288 - val_accuracy: 0.7146\n",
      "Epoch 9/10\n",
      "22451/22451 [==============================] - 66s 3ms/sample - loss: 0.3238 - accuracy: 0.8564 - val_loss: 0.4262 - val_accuracy: 0.8220\n",
      "Epoch 10/10\n",
      "22451/22451 [==============================] - 64s 3ms/sample - loss: 0.3079 - accuracy: 0.8651 - val_loss: 0.9043 - val_accuracy: 0.5912\n"
     ]
    },
    {
     "data": {
      "text/plain": [
       "<tensorflow.python.keras.callbacks.History at 0x29684bf17c8>"
      ]
     },
     "execution_count": 50,
     "metadata": {},
     "output_type": "execute_result"
    }
   ],
   "source": [
    "model = Sequential()\n",
    "\n",
    "model.add(Conv2D(64, (3,3), input_shape = x.shape[1:]))\n",
    "model.add(Activation(\"relu\"))\n",
    "model.add(MaxPooling2D(pool_size = (2,2)))\n",
    "\n",
    "model.add(Conv2D(64, (3,3)))\n",
    "model.add(Activation(\"relu\"))\n",
    "model.add(MaxPooling2D(pool_size = (2,2)))\n",
    "\n",
    "model.add(Flatten())\n",
    "model.add(Dense(64))\n",
    "\n",
    "model.add(Dense(1))\n",
    "model.add(Activation('sigmoid'))\n",
    "\n",
    "model.compile(loss = \"binary_crossentropy\",\n",
    "              optimizer = \"adam\",\n",
    "              metrics = ['accuracy'])\n",
    "\n",
    "model.fit(x, y, batch_size = 32, epochs = 10, validation_split = 0.1)\n"
   ]
  },
  {
   "cell_type": "code",
   "execution_count": null,
   "metadata": {},
   "outputs": [],
   "source": []
  }
 ],
 "metadata": {
  "kernelspec": {
   "display_name": "Python 3",
   "language": "python",
   "name": "python3"
  },
  "language_info": {
   "codemirror_mode": {
    "name": "ipython",
    "version": 3
   },
   "file_extension": ".py",
   "mimetype": "text/x-python",
   "name": "python",
   "nbconvert_exporter": "python",
   "pygments_lexer": "ipython3",
   "version": "3.7.7"
  }
 },
 "nbformat": 4,
 "nbformat_minor": 4
}
